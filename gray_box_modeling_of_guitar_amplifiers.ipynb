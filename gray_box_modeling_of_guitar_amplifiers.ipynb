{
 "cells": [
  {
   "cell_type": "markdown",
   "metadata": {},
   "source": [
    "# Gray-Box Modeling of Guitar Amplifiers"
   ]
  },
  {
   "cell_type": "markdown",
   "metadata": {},
   "source": [
    "## 0. Introduction\n",
    "\n",
    "- 歪み回路のモデリングは大きく分けて３つの手法がある\n",
    "  - White box modeling\n",
    "  - Black(Gray) box modeling\n",
    "\n",
    "- White box modeling\n",
    "    - 対象システムの詳細な情報を元にモデリングする\n",
    "    - 回路などの微分方程式を解いたり、状態空間モデルを組んだり\n",
    "    - 精度は高いが、回路を熟知していないと難しい\n",
    "        - 特に非線形素子は解析が難しい\n",
    "    - 計算コストも高い\n",
    " \n",
    "- WeinerモデルとHammersteinモデル\n",
    "    - Weinerモデル\n",
    "        - Linear-NonLinear\n",
    "    - Hammersteinモデル\n",
    "        - NonLinear-Linear\n",
    "    - Weiner-Hammersteinモデル\n",
    "        - Linear-NonLinear-Linear\n",
    "\n",
    "- 線形ブロックはメモリを持つ、非線形モデルはメモリを持たないといわれることがある\n",
    "\n",
    "- Black(Gray) box modeling\n",
    "    - Block based model\n",
    "        - WeinerモデルとHammersteinモデルを組み合わせる\n",
    "    - [A. Novak et al. ](https://www.researchgate.net/profile/Antonin_Novak/publication/228818778_Chebyshev_model_and_Synchronized_Swept_Sine_Method_in_nonlinear_audio_effect_modeling/links/0fcfd5086a31d4cb83000000.pdf)\n",
    "    は各ブランチが入力の各周波数成分を表すようなマルチブランチのHammersteinモデルを提案\n",
    "        - 入力信号の振幅がシステム同定の際に用いた信号の振幅と一致しないと上手くシミュレーション出来ない\n",
    "    - Fractal AudioやKemperもBlock based modelを使っていたりする\n",
    "    - 著者はいくつかブロックモデルを提案していたが、本論文では１回のみのパラメータ最適化のステップでモデリングできるものを提案している。"
   ]
  },
  {
   "cell_type": "markdown",
   "metadata": {},
   "source": [
    "## 1. Digital Model\n",
    "\n",
    "- ギターアンプの基本は歪み要素をフィルターで挟むこと\n",
    "    - Wiener-Hammersteinモデルでこれを再現\n",
    "- 前著では２つの非線形ブロックを用いた\n",
    "    - 完璧を追い求めるよりも計算コストを下げるほうが重要\n",
    "\n",
    "\n",
    "- 入力フィルタ$H_1(z)$\n",
    "    - 周波数ごとの歪みの量を決める\n",
    "    - ある周波数で減衰が大きいと、あとに来る歪みブロック内のマッピング関数で飽和しない\n",
    "    - 相互変調歪みの量も決める\n",
    "    \n",
    "    \n",
    "- 非線形ブロック\n",
    "    - $g_{pre}x(n) + g_{bias}$はカソードの電圧変化による陽極電流による入力依存のバイアスシフトをモデリング\n",
    "    - 歪み成分のシミュレーションには$\\tanh$をベースとしたマッピング関数を用い、4つのパラメータがある\n",
    "    - この論文内での非線形ブロックは通常にはないローパスフィルターを含む(extended Winer-Hammersteinモデルの由来)\n",
    "    \n",
    "- 出力フィルタ$H_2(z)$\n",
    "    - 歪み信号に独自の音色をもたせるため、倍音のスペクトル形状を決定づける\n",
    " \n",
    " $p = (p_{H, 1}, p_{nl}, p_{H, 2})^T$を最適化する"
   ]
  },
  {
   "cell_type": "markdown",
   "metadata": {},
   "source": [
    "## 2. Measurement Setup\n",
    "\n",
    "- デジタル振幅±1が±1Vに対応するように構成\n",
    "- output1 -> アンプ -> dummy load -> input1\n",
    "- output2 -> input2\n",
    "    - 補正フィルタ作成のため"
   ]
  },
  {
   "cell_type": "markdown",
   "metadata": {},
   "source": [
    "## 3. System Identification\n",
    "\n",
    "- extended Wiener-Hammersteinモデルの最適化は線形ブロックの最適化と非線形ブロックの最適化に分けられる\n",
    "    - 両方Levenberg-Marquardt法で最適化する\n",
    "\n",
    "- Swept Sine信号で$H_1(z), H_2(z)$を測定\n",
    "    - 0.01Vより低い電圧で測定、線形部分のインパルス応答を$h_{low}(n)$とする\n",
    "    - 1Vより低い電圧で測定、線形部分をインパルス応答$h_{high}(n)$とする\n",
    "\n",
    "- 非線形ブロックは$H_1$の寄与を無効にする働きがある。\n",
    "    - すべての周波数でそうなるわけではない\n",
    "\n",
    "- 得られたインパルス応答を離散フーリエ変換して$H_1, H_2$を算出\n",
    "    - $H_1(z) = \\frac{H_{low}(z)}{H_{high}(z)}$\n",
    "    - $H_2(z) = H_{high}(z)$\n",
    "    \n",
    "### 3.1 Adapting Second-Order IIR Filters\n",
    "- 適切な周波数の解像度を得るために、長いインパルス応答を測る必要がある\n",
    "- FIRよりIIRの方がタップ数を減らせるので計算量を減らせる\n",
    "- 最適な2次のIIRフィルタの集合を得るため、反復的に(iteratively)パラメータを調整する\n",
    "- HFS, LFS, ピークフィルタを直列に繋がれる\n",
    "- "
   ]
  }
 ],
 "metadata": {
  "kernelspec": {
   "display_name": "Python 3",
   "language": "python",
   "name": "python3"
  },
  "language_info": {
   "codemirror_mode": {
    "name": "ipython",
    "version": 3
   },
   "file_extension": ".py",
   "mimetype": "text/x-python",
   "name": "python",
   "nbconvert_exporter": "python",
   "pygments_lexer": "ipython3",
   "version": "3.6.5"
  }
 },
 "nbformat": 4,
 "nbformat_minor": 2
}
