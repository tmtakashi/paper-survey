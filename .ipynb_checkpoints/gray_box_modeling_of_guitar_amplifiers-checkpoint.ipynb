{
 "cells": [
  {
   "cell_type": "markdown",
   "metadata": {},
   "source": [
    "# Gray-Box Modeling of Guitar Amplifiers"
   ]
  },
  {
   "cell_type": "markdown",
   "metadata": {},
   "source": [
    "## 0. Introduction\n",
    "\n",
    "- 歪み回路のモデリングは大きく分けて３つの手法がある\n",
    "  - White box modeling\n",
    "  - Black(Gray) box modeling\n",
    "\n",
    "- White box modeling\n",
    "    - 対象システムの詳細な情報を元にモデリングする\n",
    "    - 回路などの微分方程式を解いたり、状態空間モデルを組んだり\n",
    "    - 精度は高いが、回路を熟知していないと難しい\n",
    "        - 特に非線形素子は解析が難しい\n",
    "    - 計算コストも高い\n",
    " \n",
    "- WeinerモデルとHammersteinモデル\n",
    "    - Weinerモデル\n",
    "        - Linear-NonLinear\n",
    "    - Hammersteinモデル\n",
    "        - NonLinear-Linear\n",
    "    - Weiner-Hammersteinモデル\n",
    "        - Linear-NonLinear-Linear\n",
    "\n",
    "- 線形ブロックはメモリを持つ、非線形モデルはメモリを持たないといわれることがある\n",
    "\n",
    "- Black(Gray) box modeling\n",
    "    - Block based model\n",
    "        - WeinerモデルとHammersteinモデルを組み合わせる\n",
    "    - [A. Novak et al. ](https://www.researchgate.net/profile/Antonin_Novak/publication/228818778_Chebyshev_model_and_Synchronized_Swept_Sine_Method_in_nonlinear_audio_effect_modeling/links/0fcfd5086a31d4cb83000000.pdf)\n",
    "    は各ブランチが入力の各周波数成分を表すようなマルチブランチのHammersteinモデルを提案\n",
    "        - 入力信号の振幅がシステム同定の際に用いた信号の振幅と一致しないと上手くシミュレーション出来ない\n",
    "    - Fractal AudioやKemperもBlock based modelを使っていたりする\n",
    "    - 著者はいくつかブロックモデルを提案していたが、本論文では１回のみのパラメータ最適化のステップでモデリングできるものを提案している。"
   ]
  },
  {
   "cell_type": "code",
   "execution_count": null,
   "metadata": {},
   "outputs": [],
   "source": []
  }
 ],
 "metadata": {
  "kernelspec": {
   "display_name": "Python 3",
   "language": "python",
   "name": "python3"
  },
  "language_info": {
   "codemirror_mode": {
    "name": "ipython",
    "version": 3
   },
   "file_extension": ".py",
   "mimetype": "text/x-python",
   "name": "python",
   "nbconvert_exporter": "python",
   "pygments_lexer": "ipython3",
   "version": "3.6.5"
  }
 },
 "nbformat": 4,
 "nbformat_minor": 2
}
